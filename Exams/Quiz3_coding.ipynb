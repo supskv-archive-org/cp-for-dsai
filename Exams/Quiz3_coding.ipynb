{
 "cells": [
  {
   "cell_type": "markdown",
   "id": "funny-climb",
   "metadata": {
    "id": "funny-climb"
   },
   "source": [
    "## Quiz 3: KNN"
   ]
  },
  {
   "cell_type": "markdown",
   "id": "third-cambodia",
   "metadata": {
    "id": "third-cambodia"
   },
   "source": [
    "1. Generate a sample using make_blobs from sklearn.datasets with n_samples = 200, center = 3, cluster_std = 1.0 and plot it using a scatter plot where different colours indicate different clusters (1 point)"
   ]
  },
  {
   "cell_type": "code",
   "execution_count": null,
   "id": "7Ln-nBUkY8Ks",
   "metadata": {
    "id": "7Ln-nBUkY8Ks"
   },
   "outputs": [],
   "source": []
  },
  {
   "cell_type": "markdown",
   "id": "tribal-craps",
   "metadata": {
    "id": "tribal-craps"
   },
   "source": [
    "2. In the KNN lecture notes, it says that there are many methods to calculate the distance between points. So far we have studied euclidean distance, so in this quiz we would like you to explore other distance measurement methods. Please implement **at least one other distance measurement method** and include it in your KNN class which you have implemented in your KNN assignment. (3 points)\n",
    "\n",
    "Note: Your class should allow users to choose their own distance measurement method, and should raise ValueError when undefined methods was given as input\n",
    "\n",
    "Hint: https://machinelearningmastery.com/distance-measures-for-machine-learning/"
   ]
  },
  {
   "cell_type": "markdown",
   "id": "particular-pricing",
   "metadata": {
    "id": "particular-pricing"
   },
   "source": [
    "3. Perform cross validation to find the best value of k and perform classification using **all** the distance measurement methods (also raise ValueError) you have implemented. (3 points)"
   ]
  },
  {
   "cell_type": "markdown",
   "id": "chubby-powell",
   "metadata": {
    "id": "chubby-powell"
   },
   "source": [
    "4. **Justify and Discuss** your results i.e. distant measurement methods, value of k, etc. (2 points)"
   ]
  }
 ],
 "metadata": {
  "colab": {
   "collapsed_sections": [],
   "name": "Quiz3_coding.ipynb",
   "provenance": []
  },
  "kernelspec": {
   "display_name": "Python 3",
   "language": "python",
   "name": "python3"
  },
  "language_info": {
   "codemirror_mode": {
    "name": "ipython",
    "version": 3
   },
   "file_extension": ".py",
   "mimetype": "text/x-python",
   "name": "python",
   "nbconvert_exporter": "python",
   "pygments_lexer": "ipython3",
   "version": "3.8.8"
  }
 },
 "nbformat": 4,
 "nbformat_minor": 5
}
