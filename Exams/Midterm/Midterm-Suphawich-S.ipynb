{
 "cells": [
  {
   "cell_type": "markdown",
   "metadata": {},
   "source": [
    "# CP - Midterm - 2021\n",
    "## Instruction\n",
    "* Modify this file to be Midterm-<Your FirstName-[First Letter of Last Name]>, e.g., Midterm-Chaklam-S.ipynb\n",
    "* This exam is open-booked; open-internet.\n",
    "* You ARE NOT allowed to use sklearn or any libraries, unless stated.\n",
    "* The completed exams in **.ipynb AND .pdf format** shall be submitted at the Google Classroom \n",
    "* Any instructions not given, feel free to make any assumptions\n",
    "\n",
    "## Examination Rules:\n",
    "* Turn on your webcam during the entire period of the exam time\n",
    "* All work should belong to you. A student should NOT engage in the following activities which proctors reserve the right to interpret any of such act as academic dishonesty without questioning:\n",
    "* Chatting with any human beings physically or via online methods\n",
    "* Plagiarism of any sort, i.e., copying from friends. Both copee and copier shall be given a minimum penalty of zero mark for that particular question or the whole exam.\n",
    "* No make-up exams are allowed. Special considerations may be given upon a valid reason on unpredictable events such as accidents or serious sickness."
   ]
  },
  {
   "cell_type": "markdown",
   "metadata": {},
   "source": [
    "## Question 1 (100 points): Basic Python Skills\n",
    "\n",
    "By now you should be comfortable with creating classes. Please complete the followings:\n",
    "\n",
    "1) First, please create a Candy() class \n",
    "- Please create a Candy() class that requires an input of 'color' attribute assigned in its <code> __ init __  </code>  function when you create an object.(4 point)\n",
    "- the second attribute in the <code> __ init __  </code> function is 'price' which should automatically be assigned according to colors:\n",
    "  * red costs 2 baht, blue costs 4 baht and others cost 6 baht (12 points)\n",
    "- Please add a <code> __ str __  </code> method that will allow you to print out the color and price of the candy (8 points)\n",
    "\n",
    "2) We will need another class called <code>CandyBasket()</code> which we will use to keep our candies in. This class should have the following methods (or functions) :\n",
    "\n",
    "- It should automatically create an empty basket when you create an object from this class.   \n",
    "  Please create 2 objects called <code>Basket1</code> and <code>Basket2</code> from the <code>CandyBasket()</code> class (8 points)\n",
    "  \n",
    "- Create a function for adding candy into the basket. <br>\n",
    "  Please add 3 Red candies and 3 Yellow candies into <code>Basket1</code>\n",
    "  and add 3 Blue candies into <code>Basket2</code>. (8 points)\n",
    "  \n",
    "- Create a <code> __ len __  </code> function that will allow you to print out the number of candies in the basket.  <br>\n",
    "  Please print out the number of candies in <code>Basket1</code> and <code>Basket2</code> (8 points)\n",
    "  \n",
    "- Create a <code> __ str __  </code> function that will allow you to print out the content of the basket.  <br>\n",
    "  Please print out the content of <code>Basket1</code> and <code>Basket2</code> (4 point)\n",
    "    \n",
    "- Also create a function that can plot a bar plot to show the number of candies of each color.  <br>\n",
    "  Please plot out the content of <code>Basket1</code> and <code>Basket2</code> (8 points)\n",
    "    \n",
    "    \n",
    "- Create a function for removing a candy from the basket you should be able to choose which candy to remove ! ) <br>\n",
    "  Please remove 2 Yellow candies from <code>Basket1</code> (12 points)\n",
    "  \n",
    "- Create a function that will allow you to transfer a specific color of candy from one basket to another. (It should also check and **raise and error** if you don't have the specific color of candy that you want to transfer)  <br>\n",
    "  Please transfer a Purple candy from <code>Basket2</code> to <code>Basket1</code> (it should give you an error).\n",
    "  and transfer 2 Red candies from <code>Basket1</code> to <code>Basket2</code>. (20 points)\n",
    "  \n",
    "- Create one last function that will calculate the total price of all candies in your basket. <br>\n",
    "  Please calculate and print out the total price of candies in <code>Basket1</code> and <code>Basket2</code> (8 points)"
   ]
  },
  {
   "cell_type": "code",
   "execution_count": 1,
   "metadata": {},
   "outputs": [],
   "source": [
    "import numpy as np\n",
    "import matplotlib.pyplot as plt"
   ]
  },
  {
   "cell_type": "code",
   "execution_count": 2,
   "metadata": {},
   "outputs": [
    {
     "name": "stdout",
     "output_type": "stream",
     "text": [
      "Basket1 size: 6\n",
      "Basket2 size: 3\n",
      "Basket1 content:\n",
      "Color: red, price: 2\n",
      "Color: red, price: 2\n",
      "Color: red, price: 2\n",
      "Color: yellow, price: 6\n",
      "Color: yellow, price: 6\n",
      "Color: yellow, price: 6\n",
      "\n",
      "Basket2 content:\n",
      "Color: blue, price: 4\n",
      "Color: blue, price: 4\n",
      "Color: blue, price: 4\n",
      "\n",
      "After remove 'yellow'\n",
      "Basket1 size: 4\n",
      "Basket2 size: 3\n",
      "Basket1 content:\n",
      "Color: red, price: 2\n",
      "Color: red, price: 2\n",
      "Color: red, price: 2\n",
      "Color: yellow, price: 6\n",
      "\n",
      "Basket2 content:\n",
      "Color: blue, price: 4\n",
      "Color: blue, price: 4\n",
      "Color: blue, price: 4\n",
      "\n",
      "After transfer 'red' from basket2 to basket1.\n",
      "Basket1 size: 2\n",
      "Basket2 size: 5\n",
      "Basket1 content:\n",
      "Color: red, price: 2\n",
      "Color: yellow, price: 6\n",
      "\n",
      "Basket2 content:\n",
      "Color: blue, price: 4\n",
      "Color: blue, price: 4\n",
      "Color: blue, price: 4\n",
      "Color: red, price: 2\n",
      "Color: red, price: 2\n",
      "\n",
      "Total price of basket1:  8\n",
      "Total price of basket2:  16\n"
     ]
    }
   ],
   "source": [
    "class Candy:\n",
    "    def __init__(self, color):\n",
    "        self.color = color\n",
    "        if color == 'red':\n",
    "            self.price = 2\n",
    "        elif color == 'blue':\n",
    "            self.price = 4\n",
    "        else:\n",
    "            self.price = 6\n",
    "    def __str__(self):\n",
    "        return f\"Color: {self.color}, price: {self.price}\"\n",
    "    \n",
    "class CandyBasket:\n",
    "    def __init__(self):\n",
    "        self.basket = []\n",
    "\n",
    "    def add(self, candy):\n",
    "        self.basket.append(candy)\n",
    "    \n",
    "    def remove(self, color, max_color=1):\n",
    "        new_arr = []\n",
    "        for b in self.basket:\n",
    "            if b.color != color or max_color == 0:\n",
    "                new_arr.append(b)\n",
    "            else:\n",
    "                max_color -= 1\n",
    "        self.basket = new_arr\n",
    "\n",
    "    def tranfer(self, color, target, max_color=None):\n",
    "        objs = []\n",
    "        if max_color is None:\n",
    "            max_color = len(self.basket)\n",
    "        \n",
    "        for b in self.basket:\n",
    "            if len(objs) == max_color:\n",
    "                break\n",
    "            if b.color == color:\n",
    "                objs.append(b)\n",
    "                self.basket.remove(b)\n",
    "        if len(objs) == 0:\n",
    "            raise ValueError(f\"{color} does not exist.\")\n",
    "        for b in objs:\n",
    "            target.add(b)\n",
    "\n",
    "    def __len__(self):\n",
    "        return len(self.basket)\n",
    "    \n",
    "    def __str__(self):\n",
    "        s = \"\"\n",
    "        for b in self.basket:\n",
    "            s += f\"{b}\\n\"\n",
    "        return s\n",
    "    \n",
    "    def calculate(self):\n",
    "        total = 0\n",
    "        for b in self.basket:\n",
    "            total += b.price\n",
    "        return total\n",
    "    \n",
    "basket1 = CandyBasket()\n",
    "basket2 = CandyBasket()\n",
    "\n",
    "# add\n",
    "basket1.add(Candy('red'))\n",
    "basket1.add(Candy('red'))\n",
    "basket1.add(Candy('red'))\n",
    "basket1.add(Candy('yellow'))\n",
    "basket1.add(Candy('yellow'))\n",
    "basket1.add(Candy('yellow'))\n",
    "basket2.add(Candy('blue'))\n",
    "basket2.add(Candy('blue'))\n",
    "basket2.add(Candy('blue'))\n",
    "\n",
    "# print out\n",
    "print(\"Basket1 size:\", len(basket1))\n",
    "print(\"Basket2 size:\", len(basket2))\n",
    "\n",
    "\n",
    "print(f\"Basket1 content:\")\n",
    "print(basket1)\n",
    "print(f\"Basket2 content:\")\n",
    "print(basket2)\n",
    "\n",
    "# remove yellow\n",
    "basket1.remove('yellow', max_color=2)\n",
    "print(f\"After remove 'yellow'\")\n",
    "print(\"Basket1 size:\", len(basket1))\n",
    "print(\"Basket2 size:\", len(basket2))\n",
    "print(f\"Basket1 content:\")\n",
    "print(basket1)\n",
    "print(f\"Basket2 content:\")\n",
    "print(basket2)\n",
    "\n",
    "# test transfer\n",
    "basket1.tranfer('red', basket2, max_color=2)\n",
    "print(f\"After transfer 'red' from basket2 to basket1.\")\n",
    "print(\"Basket1 size:\", len(basket1))\n",
    "print(\"Basket2 size:\", len(basket2))\n",
    "print(f\"Basket1 content:\")\n",
    "print(basket1)\n",
    "print(f\"Basket2 content:\")\n",
    "print(basket2)\n",
    "\n",
    "# price\n",
    "print(f\"Total price of basket1: \", basket1.calculate())\n",
    "print(f\"Total price of basket2: \", basket2.calculate())"
   ]
  },
  {
   "cell_type": "markdown",
   "metadata": {},
   "source": [
    "## Question 2 (195 points): Data Science\n",
    "\n",
    "Complete the following data science pipeline:\n",
    "\n",
    "1) **Loading**:  Load boston data from sklearn.datasets (5 points) <br>\n",
    "\n",
    "2) **Feature Selection/Engineering**\n",
    "\n",
    "* Perform some basic exploratory data analysis as appropriate to determine what are the top five features potentially useful for the prediction (15 points) <br>\n",
    "\n",
    "* Create X using the top five features, and the corresponding y (10 points) <br>  \n",
    "\n",
    "* Do train test split the data **FROM SCRATCH** (5 points) <br>\n",
    "\n",
    "* Scale your data **FROM SCRATCH** using **Box-Cox transform** with $\\lambda$ = -1 (15 points) : (6.3.2.2. Mapping to a Gaussian distribution **Box-Cox transform**) https://scikit-learn.org/stable/modules/preprocessing.html#mapping-to-a-gaussian-distribution <br>\n",
    "\n",
    "$$\n",
    "x_i^{(\\lambda)} = \\begin{cases}\n",
    "      \\displaystyle\\frac{x_i^{(\\lambda)} - 1}{\\lambda} & \\text{if }  \\lambda \\neq 0  \\\\\n",
    "      \\ln (x_i) & \\text{if } \\lambda = 0 \\\\\n",
    "      \\end{cases}\n",
    "$$\n",
    "\n",
    "3) **Model Implementation**: Implement Linear Regression class **FROM SCRATCH** with the following features <br>\n",
    "* choice of **weight initialization** (normal distribution with mean=0 and std=1, random between 0-1, all zero) (15 points)\n",
    "* choice of **sampling method** (batch, mini batch, stochastic) (15 points) \n",
    "* **raise ValueError** where appropriate (5 points) \n",
    "* use **without replacement** for stochastic  (5 points) \n",
    "* choice of **loss function** (normal, ridge)   (15 points) \n",
    "    * normal loss function\n",
    "    \n",
    "        $$J(\\theta) = \\frac{1}{2}\\sum_{i=1}^m(h_\\theta(x^{(i)}) - y^{(i)})^2$$    \n",
    "    \n",
    "        $$\\frac{\\partial J}{\\partial \\theta_j} = \\sum_{i=1}^{m}(h^{(i)}-y^{(i)})x_j$$\n",
    "\n",
    "    * ridge loss function\n",
    "    \n",
    "        $$ J(\\theta) = \\frac{1}{2}\\sum_{i=1}^m(h_\\theta(x^{(i)}) - y^{(i)})^2 + \\lambda\\sum_{i=1}^n \\theta_i^2$$\n",
    "        \n",
    "        $$\\frac{\\partial J}{\\partial \\theta_j} = \\sum_{i=1}^{m}(h^{(i)}-y^{(i)})x_j + \\lambda \\theta_j$$\n",
    "\n",
    "* Implement a feature importance function **FROM SCRATCH** which will output a bar plot, plotting the importance scores of each features in sorted order (15 points).\n",
    "    * If we have scaled our data in our beginning (e.g., standard scaler), feature importance scores are simply the weights.  Larger weights imply stronger importance.  Anyhow, plotting them can be nasty since some weights can be very big, thus you may want to log-transform them. \n",
    "\n",
    "4) **Training/Experiment**: Implement a cross validation experiment **FROM SCRATCH** comparing their cross-validation accuracy, and output their feature importance scores (15 points)\n",
    "\n",
    "* mini-batch sampling, normal loss\n",
    "* mini-batch sampling, ridge loss with lambda of 0.05\n",
    "* stochastic sampling, normal loss\n",
    "* stochastic sampling, ridge loss with lambda of 0.05\n",
    "\n",
    "5) **Training/Testing**: Select the best parameters you found in 4), train and verify the best model with the testing set. Plot training and testing losses and accuracies as number of iters increases (10 points)\n",
    "    \n",
    "6) **Communication**: Interpret your results (e.g., overfitting, weights, accuracy, etc.).  Critical analyses will be used as main criteria for scoring (50 points)"
   ]
  },
  {
   "cell_type": "markdown",
   "metadata": {},
   "source": [
    "### Loading"
   ]
  },
  {
   "cell_type": "code",
   "execution_count": 3,
   "metadata": {},
   "outputs": [],
   "source": [
    "from sklearn.datasets import load_boston\n",
    "boston = load_boston()"
   ]
  },
  {
   "cell_type": "markdown",
   "metadata": {},
   "source": [
    "### Feature Selection/Engineering"
   ]
  },
  {
   "cell_type": "code",
   "execution_count": 4,
   "metadata": {},
   "outputs": [
    {
     "name": "stdout",
     "output_type": "stream",
     "text": [
      ".. _boston_dataset:\n",
      "\n",
      "Boston house prices dataset\n",
      "---------------------------\n",
      "\n",
      "**Data Set Characteristics:**  \n",
      "\n",
      "    :Number of Instances: 506 \n",
      "\n",
      "    :Number of Attributes: 13 numeric/categorical predictive. Median Value (attribute 14) is usually the target.\n",
      "\n",
      "    :Attribute Information (in order):\n",
      "        - CRIM     per capita crime rate by town\n",
      "        - ZN       proportion of residential land zoned for lots over 25,000 sq.ft.\n",
      "        - INDUS    proportion of non-retail business acres per town\n",
      "        - CHAS     Charles River dummy variable (= 1 if tract bounds river; 0 otherwise)\n",
      "        - NOX      nitric oxides concentration (parts per 10 million)\n",
      "        - RM       average number of rooms per dwelling\n",
      "        - AGE      proportion of owner-occupied units built prior to 1940\n",
      "        - DIS      weighted distances to five Boston employment centres\n",
      "        - RAD      index of accessibility to radial highways\n",
      "        - TAX      full-value property-tax rate per $10,000\n",
      "        - PTRATIO  pupil-teacher ratio by town\n",
      "        - B        1000(Bk - 0.63)^2 where Bk is the proportion of blacks by town\n",
      "        - LSTAT    % lower status of the population\n",
      "        - MEDV     Median value of owner-occupied homes in $1000's\n",
      "\n",
      "    :Missing Attribute Values: None\n",
      "\n",
      "    :Creator: Harrison, D. and Rubinfeld, D.L.\n",
      "\n",
      "This is a copy of UCI ML housing dataset.\n",
      "https://archive.ics.uci.edu/ml/machine-learning-databases/housing/\n",
      "\n",
      "\n",
      "This dataset was taken from the StatLib library which is maintained at Carnegie Mellon University.\n",
      "\n",
      "The Boston house-price data of Harrison, D. and Rubinfeld, D.L. 'Hedonic\n",
      "prices and the demand for clean air', J. Environ. Economics & Management,\n",
      "vol.5, 81-102, 1978.   Used in Belsley, Kuh & Welsch, 'Regression diagnostics\n",
      "...', Wiley, 1980.   N.B. Various transformations are used in the table on\n",
      "pages 244-261 of the latter.\n",
      "\n",
      "The Boston house-price data has been used in many machine learning papers that address regression\n",
      "problems.   \n",
      "     \n",
      ".. topic:: References\n",
      "\n",
      "   - Belsley, Kuh & Welsch, 'Regression diagnostics: Identifying Influential Data and Sources of Collinearity', Wiley, 1980. 244-261.\n",
      "   - Quinlan,R. (1993). Combining Instance-Based and Model-Based Learning. In Proceedings on the Tenth International Conference of Machine Learning, 236-243, University of Massachusetts, Amherst. Morgan Kaufmann.\n",
      "\n"
     ]
    }
   ],
   "source": [
    "feature_names = boston.feature_names\n",
    "print(boston.DESCR)"
   ]
  },
  {
   "cell_type": "code",
   "execution_count": 5,
   "metadata": {},
   "outputs": [],
   "source": [
    "def train_test_split(X, y, percent_train=.7):\n",
    "    idx = np.arange(0,len(X),1)\n",
    "    np.random.shuffle(idx)\n",
    "    idx_train = idx[0:int(percent_train*len(X))]\n",
    "    idx_test = idx[len(idx_train):len(idx)]\n",
    "    X_train = X[idx_train]\n",
    "    X_test = X[idx_test]\n",
    "    y_train = y[idx_train]\n",
    "    y_test = y[idx_test]\n",
    "    return X_train, X_test, y_train, y_test\n",
    "\n",
    "def boxcox(X, lam=0):\n",
    "    if (lam==0):\n",
    "        return np.log(X)\n",
    "    top = (X ** lam) - 1\n",
    "    return top / lam"
   ]
  },
  {
   "cell_type": "markdown",
   "metadata": {},
   "source": [
    "I decided to choose last 5 features of the dataset to be top feature for training this model because it can be impact directly to the house prices."
   ]
  },
  {
   "cell_type": "markdown",
   "metadata": {},
   "source": [
    "- DIS      weighted distances to five Boston employment centres\n",
    "- RAD      index of accessibility to radial highways\n",
    "- TAX      full-value property-tax rate per $10,000\n",
    "- B        1000(Bk - 0.63)^2 where Bk is the proportion of blacks by town\n",
    "- LSTAT    % lower status of the population"
   ]
  },
  {
   "cell_type": "code",
   "execution_count": 6,
   "metadata": {},
   "outputs": [],
   "source": [
    "X = boston.data[:, [7, 8, 9, 11, 12]]\n",
    "y = boston.target\n",
    "X = boxcox(X, -1)"
   ]
  },
  {
   "cell_type": "code",
   "execution_count": 7,
   "metadata": {},
   "outputs": [
    {
     "name": "stdout",
     "output_type": "stream",
     "text": [
      "X_train: (354, 6)\n",
      "X_test: (152, 6)\n",
      "y_train: (354,)\n",
      "y_test: (152,)\n"
     ]
    }
   ],
   "source": [
    "X_train, X_test, y_train, y_test = train_test_split(X, y, percent_train = 0.7)\n",
    "\n",
    "assert X_train.shape[0] == y_train.shape[0]\n",
    "assert X_test.shape[0] == y_test.shape[0]\n",
    "\n",
    "# add intercept to our X\n",
    "intercept = np.ones((X_train.shape[0], 1))\n",
    "X_train   = np.concatenate((intercept, X_train), axis=1)  #add intercept\n",
    "intercept = np.ones((X_test.shape[0], 1))\n",
    "X_test    = np.concatenate((intercept, X_test), axis=1)  #add intercept\n",
    "\n",
    "print(\"X_train:\", X_train.shape)\n",
    "print(\"X_test:\", X_test.shape)\n",
    "print(\"y_train:\", y_train.shape)\n",
    "print(\"y_test:\", y_test.shape)"
   ]
  },
  {
   "cell_type": "markdown",
   "metadata": {},
   "source": [
    "### Model Implementation"
   ]
  },
  {
   "cell_type": "code",
   "execution_count": 8,
   "metadata": {},
   "outputs": [],
   "source": [
    "class LinearRegression:\n",
    "    def __init__(self, alpha=0.001, max_iter=10000,\n",
    "                 weight_method=\"zero\", fit_method=\"batch\", loss_method=\"normal\",\n",
    "                 without_replacement=True, ridge_lamda=0.05):\n",
    "        self.alpha = alpha\n",
    "        self.max_iter = max_iter\n",
    "        self.losses = []\n",
    "        self.weight_method = weight_method # normal, random, zero\n",
    "        self.fit_method = fit_method # batch, sto, minibatch\n",
    "        self.loss_method = loss_method # normal, ridge\n",
    "        self.ridge_lamda = ridge_lamda\n",
    "        self.without_replacement = without_replacement\n",
    "    \n",
    "    def init_weight(self, n):\n",
    "        method = self.weight_method\n",
    "        if method == \"normal\":\n",
    "            self.theta = np.zeros(n)\n",
    "        elif method == \"random\":\n",
    "            self.theta = np.random.rand(n,)\n",
    "        elif method == 'zero':\n",
    "            self.theta = np.zeros(n)\n",
    "        else:\n",
    "            raise ValueError(f\"Weight method is invalid.\")\n",
    "            \n",
    "    def fit(self, X, y):\n",
    "        self.init_weight(X.shape[1])\n",
    "        iter_stop = 0\n",
    "        list_of_used_ix = [] #<===without replacement\n",
    "        \n",
    "        for i in range(self.max_iter):\n",
    "            if self.fit_method == \"sto\":\n",
    "                i = np.random.randint(X.shape[0])\n",
    "                if self.without_replacement:\n",
    "                    while i in list_of_used_ix:\n",
    "                        i = np.random.randint(X.shape[0])\n",
    "                X_train = X[i, :].reshape(1, -1)\n",
    "                y_train = y[i]\n",
    "                list_of_used_ix.append(i)\n",
    "                if len(list_of_used_ix) == X.shape[0]:\n",
    "                    list_of_used_ix = []\n",
    "            elif self.fit_method == 'minibatch':\n",
    "                batch_size = int(0.3 * X.shape[0])\n",
    "                ix = np.random.randint(0, X.shape[0]) #<----with replacement\n",
    "                X_train = X[ix:ix+batch_size]\n",
    "                y_train = y[ix:ix+batch_size]\n",
    "            elif self.fit_method == 'batch':\n",
    "                X_train = X\n",
    "                y_train = y\n",
    "            else:\n",
    "                raise ValueError(f\"Fit method is incalid.\")\n",
    "\n",
    "            loss, grad = self.gradient(X_train, y_train)\n",
    "            \n",
    "            # update theta\n",
    "            self.theta = self.theta - self.alpha * grad\n",
    "            self.losses.append(loss)\n",
    "\n",
    "    def predict(self, X): # <--- X_test\n",
    "        return self.h_theta(X)\n",
    "\n",
    "    # can name it predict for easy understanding\n",
    "    def h_theta(self, X):\n",
    "        return X @ self.theta\n",
    "\n",
    "    def mse(self, yhat, y):\n",
    "        return ((yhat - y)**2 / yhat.shape[0]).sum()\n",
    "\n",
    "    def normal_loss(self, yhat, y, X):\n",
    "        return np.dot((yhat - y), X).sum()\n",
    "    \n",
    "    def ridge_loss(self, yhat, y, X):\n",
    "        return self.normal_loss(yhat, y, X) + np.dot(self.ridge_lamda, self.theta).sum()\n",
    "\n",
    "    def gradient(self, X, y):\n",
    "        yhat = self.h_theta(X)\n",
    "        if self.loss_method == 'normal':\n",
    "            loss = self.normal_loss(yhat, y, X)\n",
    "        elif self.loss_method == 'ridge':\n",
    "            loss = self.ridge_loss(yhat, y, X)\n",
    "        else:\n",
    "            raise ValueError(f\"Loss method is invalid.\")\n",
    "        grad = X.T @ (yhat - y)\n",
    "        return loss, grad"
   ]
  },
  {
   "cell_type": "markdown",
   "metadata": {},
   "source": [
    "### Training/Experiment"
   ]
  },
  {
   "cell_type": "code",
   "execution_count": 9,
   "metadata": {},
   "outputs": [],
   "source": [
    "def cross_validation(X_train, X_test, y_train, y_test, arr_params):\n",
    "    for i, params in enumerate(arr_params):\n",
    "        model = LinearRegression(**params)\n",
    "        model.fit(X_train, y_train)\n",
    "        yhat = model.predict(X_test)\n",
    "        mse = model.mse(yhat, y_test)\n",
    "        print(f\"Cross: {i+1}, MSE: {mse}\")"
   ]
  },
  {
   "cell_type": "code",
   "execution_count": 10,
   "metadata": {},
   "outputs": [
    {
     "name": "stdout",
     "output_type": "stream",
     "text": [
      "Cross: 1, MSE: 21.726659566173538\n",
      "Cross: 2, MSE: 21.788568599813225\n",
      "Cross: 3, MSE: 77.60200825282163\n",
      "Cross: 4, MSE: 76.74363584346028\n"
     ]
    }
   ],
   "source": [
    "arr_params = [\n",
    "    {'fit_method': 'minibatch', 'loss_method': 'normal'},\n",
    "    {'fit_method': 'minibatch', 'loss_method': 'ridge', 'ridge_lamda': 0.05},\n",
    "    {'fit_method': 'sto', 'loss_method': 'normal'},\n",
    "    {'fit_method': 'sto', 'loss_method': 'ridge', 'ridge_lamda': 0.05},\n",
    "]\n",
    "\n",
    "cross_validation(X_train, X_test, y_train, y_test, arr_params)"
   ]
  },
  {
   "cell_type": "markdown",
   "metadata": {},
   "source": [
    "### Training/Testing"
   ]
  },
  {
   "cell_type": "code",
   "execution_count": 11,
   "metadata": {},
   "outputs": [
    {
     "name": "stdout",
     "output_type": "stream",
     "text": [
      "MSE: 21.739822258867786\n",
      "Theta: [ 49.21443085  -1.55767283  -1.10069228  47.44446912   2.30196113\n",
      " -83.8856549 ]\n"
     ]
    }
   ],
   "source": [
    "model = LinearRegression(**arr_params[0])\n",
    "model.fit(X_train, y_train)\n",
    "yhat = model.predict(X_test)\n",
    "mse = model.mse(yhat, y_test)\n",
    "\n",
    "print(f\"MSE: {mse}\")\n",
    "print(f\"Theta: {model.theta}\")"
   ]
  },
  {
   "cell_type": "code",
   "execution_count": 12,
   "metadata": {},
   "outputs": [
    {
     "data": {
      "image/png": "[encoded data removed]",
      "text/plain": [
       "<Figure size 432x288 with 1 Axes>"
      ]
     },
     "metadata": {
      "needs_background": "light"
     },
     "output_type": "display_data"
    }
   ],
   "source": [
    "plt.plot(model.losses, label = \"Train Losses\")\n",
    "plt.title(\"Losses\")\n",
    "plt.xlabel(\"epoch\")\n",
    "plt.ylabel(\"losses\")\n",
    "plt.legend()\n",
    "plt.show()"
   ]
  },
  {
   "cell_type": "markdown",
   "metadata": {},
   "source": [
    "### Communication"
   ]
  },
  {
   "cell_type": "markdown",
   "metadata": {},
   "source": [
    "Interpret your result:"
   ]
  },
  {
   "cell_type": "markdown",
   "metadata": {},
   "source": [
    "1. Picking feature: from cross validation, the MSE is quite more lower than picking other features, also work well in minibatch.\n",
    "2. Loss (error): from the plot, the loss is quite good because it is decreasing signicifantly and near around zero, although the beginning is negative value.\n",
    "3. fluctuating: The result is fluctuate a bit, I think because of using minibatch in cross validation."
   ]
  },
  {
   "cell_type": "code",
   "execution_count": null,
   "metadata": {},
   "outputs": [],
   "source": []
  }
 ],
 "metadata": {
  "kernelspec": {
   "display_name": "Python 3",
   "language": "python",
   "name": "python3"
  },
  "language_info": {
   "codemirror_mode": {
    "name": "ipython",
    "version": 3
   },
   "file_extension": ".py",
   "mimetype": "text/x-python",
   "name": "python",
   "nbconvert_exporter": "python",
   "pygments_lexer": "ipython3",
   "version": "3.8.8"
  }
 },
 "nbformat": 4,
 "nbformat_minor": 4
}
