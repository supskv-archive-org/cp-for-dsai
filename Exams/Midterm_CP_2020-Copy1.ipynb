{
 "cells": [
  {
   "cell_type": "markdown",
   "metadata": {},
   "source": [
    "# CP - Midterm - 2020\n",
    "## Instruction\n",
    "* Modify this file to be Midterm-<Your FirstName-[First Letter of Last Name]>, e.g., Midterm-Chaklam-S.ipynb\n",
    "* This exam accounts for 25% of the overall course assessment.\n",
    "* This exam is open-booked; open-internet.\n",
    "* You ARE NOT allowed to use sklearn or any libraries, unless stated.\n",
    "* The completed exams shall be submitted at the Google Classroom\n",
    "* All code should be complemented with comments, unless it's really obvious. I and Joe reserve the privilege to give you zero for any part of the question where the benefit of doubt is not justified\n",
    "\n",
    "## Examination Rules:\n",
    "* For offline students, you may leave the room temporarily with the approval and supervision of the proctors. No extra time will be added to the exam in such cases.\n",
    "* For online students, you are required to turn on your webcam during the entire period of the exam time\n",
    "* Students will be allowed to leave at the earliest 45 minutes after the exam has started\n",
    "* All work should belong to you. A student should NOT engage in the following activities which proctors reserve the right to interpret any of such act as academic dishonesty without questioning:\n",
    "* Chatting with any human beings physically or via online methods\n",
    "* Plagiarism of any sort, i.e., copying from internet sources or friends. Both copee and copier shall be given a minimum penalty of zero mark for that particular question or the whole exam.\n",
    "No make-up exams are allowed. Special considerations may be given upon a valid reason on unpredictable events such as accidents or serious sickness.\n",
    "\n",
    "## Question 1 (21 pts)\n",
    "\n",
    "1). **The rabbit**: (5pts)\n",
    "\n",
    "Once upon a time, there is a father rabbit lives in a far away jungle. Everyday, the father rabbit has to go out and find some carrots for his family. In his family there are mother rabbit, grampa rabbit, sister rabbit, and his son. In total there are 5 rabbits to feed. In one day, the adult rabbits (himself, mother rabbit and sister rabbit) will eat 3 carrots while the elderly eat 2 carrots and baby rabbit eat 1 carrot.\n",
    "\n",
    "Unfortunately, the carrots are not easy to find. The father rabbit has to travel into the scary jungle and find some carrot then bring them back to the family before the sunset at 6PM.\n",
    "\n",
    "- Every 1 km, the rabbit will find 3 carrots.\n",
    "- The rabbit will use 1 hour to travel 1 km.\n",
    "\n",
    "In summary, in order to find the least number of carrot for each day, the rabbit will have to use (3 + 3 + 3 + 2 + 1)/3 =  4 hours. This mean that he has to leave the house at the latest 10AM (4 hours for go out and another 4 for comming back).\n",
    "\n",
    "This daily work has to be done exactly on time, leaving to late will cause whether his life or his family life. Would you like to help the rabbit?"
   ]
  },
  {
   "cell_type": "code",
   "execution_count": 1,
   "metadata": {},
   "outputs": [
    {
     "name": "stdout",
     "output_type": "stream",
     "text": [
      "yes\n"
     ]
    }
   ],
   "source": [
    "# print 'yes' to help the rabbit or 'no' to refuse the challenge. (if yes -> 1 pt)\n",
    "# Your code here\n",
    "print('yes')"
   ]
  },
  {
   "cell_type": "markdown",
   "metadata": {},
   "source": [
    "Good to hear that young programmer!!\n",
    "\n",
    "What I have in mind is to build a clock that when the rabbit puts the number of (adult, elderly, young) rabbit, it will calculate how many hours is required for a travel. Of cause we have to make it as a function because the number of each rabbit type will change over the time.\n",
    "\n",
    "- Write a function <code>carrot</code> that takes three integers as an input in follow this format <code>(adult, elderly, young)</code> (1pt)\n",
    "- The function will calculate number of hour required for travelling a day. (1pt)\n",
    "- The function will also calcualte the time to leave. Think of it as an alarm clock for leaving the house (1pt)\n",
    "- The function will return a tuple (\\#hours, #time) (1pt)"
   ]
  },
  {
   "cell_type": "code",
   "execution_count": 2,
   "metadata": {},
   "outputs": [
    {
     "data": {
      "text/plain": [
       "(8, 10)"
      ]
     },
     "execution_count": 2,
     "metadata": {},
     "output_type": "execute_result"
    }
   ],
   "source": [
    "# Your code here\n",
    "def carrot(adult, elderly, young):\n",
    "    carrot_per_km = 3\n",
    "    hour_per_km = 1\n",
    "    end_of_travel = 18\n",
    "    need_carrot = (adult * 3) + (elderly * 2) + young\n",
    "    need_km = need_carrot / carrot_per_km\n",
    "    need_hour = round((need_km / hour_per_km) * 2)\n",
    "    taken = end_of_travel - need_hour\n",
    "    return need_hour, taken\n",
    "\n",
    "carrot(3, 1, 1)"
   ]
  },
  {
   "cell_type": "markdown",
   "metadata": {},
   "source": [
    "2). **Print the shape**: (16pts)\n",
    "\n",
    "- Write a function <code>square</code> that takes integer as an input. (1pt)\n",
    "- The function will return a string of * in the shape of a square with both width and height equal to the input interger. (2pts)"
   ]
  },
  {
   "cell_type": "code",
   "execution_count": 3,
   "metadata": {},
   "outputs": [
    {
     "data": {
      "text/plain": [
       "'\\nLevel: 3\\n***\\n***\\n***\\n\\nLevel: 5\\n*****\\n*****\\n*****\\n*****\\n*****\\n'"
      ]
     },
     "execution_count": 3,
     "metadata": {},
     "output_type": "execute_result"
    }
   ],
   "source": [
    "'''\n",
    "Level: 3\n",
    "***\n",
    "***\n",
    "***\n",
    "\n",
    "Level: 5\n",
    "*****\n",
    "*****\n",
    "*****\n",
    "*****\n",
    "*****\n",
    "'''"
   ]
  },
  {
   "cell_type": "code",
   "execution_count": 4,
   "metadata": {},
   "outputs": [
    {
     "name": "stdout",
     "output_type": "stream",
     "text": [
      "*****\n",
      "*****\n",
      "*****\n",
      "*****\n",
      "*****\n"
     ]
    }
   ],
   "source": [
    "# Your code here\n",
    "def square(n):\n",
    "    for i in range(n):\n",
    "        print('*' * n)\n",
    "\n",
    "square(5)"
   ]
  },
  {
   "cell_type": "markdown",
   "metadata": {},
   "source": [
    "- Write a function <code>triangle</code> that takes integer as an input. (1pt)\n",
    "- The function will return a string of * in the shape of a triangle with level equal to the input integer. (2pts)"
   ]
  },
  {
   "cell_type": "code",
   "execution_count": 5,
   "metadata": {},
   "outputs": [
    {
     "data": {
      "text/plain": [
       "'\\nLevel: 3\\n  *\\n **\\n***\\n\\nLevel: 5\\n    *\\n   **\\n  ***\\n ****\\n*****\\n'"
      ]
     },
     "execution_count": 5,
     "metadata": {},
     "output_type": "execute_result"
    }
   ],
   "source": [
    "'''\n",
    "Level: 3\n",
    "  *\n",
    " **\n",
    "***\n",
    "\n",
    "Level: 5\n",
    "    *\n",
    "   **\n",
    "  ***\n",
    " ****\n",
    "*****\n",
    "'''"
   ]
  },
  {
   "cell_type": "code",
   "execution_count": 6,
   "metadata": {},
   "outputs": [
    {
     "name": "stdout",
     "output_type": "stream",
     "text": [
      "    *\n",
      "   **\n",
      "  ***\n",
      " ****\n",
      "*****\n"
     ]
    }
   ],
   "source": [
    "# Your code here\n",
    "def triangle(n):\n",
    "    for i in range(1, n+1):\n",
    "        print(' ' * (n-i) + '*' * (i))\n",
    "\n",
    "triangle(5)"
   ]
  },
  {
   "cell_type": "markdown",
   "metadata": {},
   "source": [
    "- Write a function <code>pyramid</code> that takes integer as an input. (1pt)\n",
    "- The function will return the string of * in the shape of a pyramid with level equal to the input interger. (2pts)"
   ]
  },
  {
   "cell_type": "code",
   "execution_count": 7,
   "metadata": {},
   "outputs": [
    {
     "data": {
      "text/plain": [
       "' \\nLevel: 3 \\n  * \\n ***\\n*****\\n\\nLevel: 5\\n    *\\n   ***\\n  *****\\n *******\\n*********\\n'"
      ]
     },
     "execution_count": 7,
     "metadata": {},
     "output_type": "execute_result"
    }
   ],
   "source": [
    "''' \n",
    "Level: 3 \n",
    "  * \n",
    " ***\n",
    "*****\n",
    "\n",
    "Level: 5\n",
    "    *\n",
    "   ***\n",
    "  *****\n",
    " *******\n",
    "*********\n",
    "'''"
   ]
  },
  {
   "cell_type": "code",
   "execution_count": 8,
   "metadata": {},
   "outputs": [
    {
     "name": "stdout",
     "output_type": "stream",
     "text": [
      "    *    \n",
      "   ***   \n",
      "  *****  \n",
      " ******* \n",
      "*********\n"
     ]
    }
   ],
   "source": [
    "# Your code here\n",
    "def pyramid(n):\n",
    "    for i in range(1, n+1):\n",
    "        pad = ' ' * (n-i)\n",
    "        print(pad + '*' * (i*2-1) + pad)\n",
    "\n",
    "pyramid(5)"
   ]
  },
  {
   "cell_type": "markdown",
   "metadata": {},
   "source": [
    "Now, let's combine the three algorithms into one single class.\n",
    "- Create a class named <code>MyShape</code> that can do the followings\n",
    "    - Take two arguments during the class construction. The first one is an integer and the second one is a string. The names are <code>level</code> and <code>shape</code> (1pt)\n",
    "    - Check the input arguments whether the interger is in the range of \\[1,10\\] and string is in the set of {'squ','tri','pyr'}. Raise a <code>ValueError</code>. (2pts)\n",
    "    - Both attributes should be able to change via a set method **only**. <code>set\\[attrName\\]</code> (1pt)\n",
    "    - Of cause, the set method should check the out of range too. (1pt)\n",
    "    - To check the current setting, write a get method. <code>get\\[attrName\\]</code> (1pt)\n",
    "    - Print the shape with method <code>show</code>. It should return the string of the current shape with the correct level (1pt)"
   ]
  },
  {
   "cell_type": "code",
   "execution_count": 9,
   "metadata": {},
   "outputs": [
    {
     "data": {
      "text/plain": [
       "'\\nExample 1\\n\\n>>> ms = MyShape(2,\\'tri\\')\\n>>> ms.show()\\n *\\n**\\n>>> ms.setLevel(3)\\n>>> ms.setShape(\\'squ\\')\\n>>> ms.show()\\n***\\n***\\n***\\n>>> ms.setShape(\\'a\\')\\nTraceback (most recent call last):\\n  File \"<stdin>\", line 1, in <module>\\nValueError: ..........\\n>>>\\n'"
      ]
     },
     "execution_count": 9,
     "metadata": {},
     "output_type": "execute_result"
    }
   ],
   "source": [
    "'''\n",
    "Example 1\n",
    "\n",
    ">>> ms = MyShape(2,'tri')\n",
    ">>> ms.show()\n",
    " *\n",
    "**\n",
    ">>> ms.setLevel(3)\n",
    ">>> ms.setShape('squ')\n",
    ">>> ms.show()\n",
    "***\n",
    "***\n",
    "***\n",
    ">>> ms.setShape('a')\n",
    "Traceback (most recent call last):\n",
    "  File \"<stdin>\", line 1, in <module>\n",
    "ValueError: ..........\n",
    ">>>\n",
    "'''"
   ]
  },
  {
   "cell_type": "code",
   "execution_count": 10,
   "metadata": {},
   "outputs": [
    {
     "name": "stdout",
     "output_type": "stream",
     "text": [
      "***\n",
      "***\n",
      "***\n",
      "  *\n",
      " **\n",
      "***\n",
      "    *    \n",
      "   ***   \n",
      "  *****  \n",
      " ******* \n",
      "*********\n"
     ]
    }
   ],
   "source": [
    "# Your code here\n",
    "class MyShape:\n",
    "    def __init__(self, level, shape):\n",
    "        if (not (level >= 1 and level <= 10)):\n",
    "            raise ValueError('Level must contain in 1 to 10.') \n",
    "        if (shape not in ['squ','tri','pyr']):\n",
    "            raise ValueError('Shape must be squ, tri, or pyr.') \n",
    "        self._level = level\n",
    "        self._shape = shape\n",
    "    def setLevel(self, v):\n",
    "        if (not (v >= 1 and v <= 10)):\n",
    "            raise ValueError('Level must contain in 1 to 10.') \n",
    "        self._level = v\n",
    "    def setShape(self, v):\n",
    "        if (v not in ['squ','tri','pyr']):\n",
    "            raise ValueError('Shape must be squ, tri, or pyr.') \n",
    "        self._shape = v\n",
    "    def getLevel(self):\n",
    "        return self._level\n",
    "    def getShape(self):\n",
    "        return self._shape\n",
    "    def show(self):\n",
    "        level = self._level\n",
    "        method = self._shape\n",
    "        if (method == 'squ'):\n",
    "            square(level)\n",
    "        elif (method == 'tri'):\n",
    "            triangle(level)\n",
    "        elif (method == 'pyr'):\n",
    "            pyramid(level)\n",
    "        else:\n",
    "            raise ValueError('Shape is invalid.')\n",
    "\n",
    "m = MyShape(3, 'squ')\n",
    "m.show()\n",
    "m.setShape('tri')\n",
    "m.show()\n",
    "m.setLevel(5)\n",
    "m.setShape('pyr')\n",
    "m.show()"
   ]
  },
  {
   "cell_type": "markdown",
   "metadata": {},
   "source": [
    "## Question 2 (10 pts)\n",
    "2). **ML Skill**\n",
    "$$ y = ax + b $$\n",
    "The above equation is your favorite linear equation where <code>a,b</code> are the constant value indicate the slope and the offset of the line in the graph.\n",
    "\n",
    "We all know given and two points. $$ (x_1,y_1) (x_2,y_2) $$ you can find <code>a,b</code> very easy using Geometry \n",
    "\n",
    "$$ a = \\frac{y_2 - y_1}{x_2 - x_1} $$\n",
    "$$ b = y_i - ax_i$$\n",
    "\n",
    "Since we have learnt that using LinearRegression can find the value of the <code>a,b</code> too.\n",
    "\n",
    "Now, do the followings.\n",
    "\n",
    "- Write a function <code>drawLine</code> that takes two tuples as inputs.\n",
    "- Calculate <code>a,b</code> using Geometry.\n",
    "- Draw the first graph with scatter on the given two points and a line.\n",
    "- Calculate <code>a,b</code> using LinearRegression with Batch Gradient Descent.\n",
    "    - Generate 1000 sample data along the line.\n",
    "    - Regress on the data using LinearRegression-BatchGradientDescent\n",
    "- Draw the second graph with scatter on the given two points and a line.\n",
    "- Does both method yeild the same outcome? Which method runs faster? (use timeit)\n",
    "- What will happen if the data is normalize first? (draw another graph and timeit)\n",
    "- What will happen if the data is standardize first? (draw another graph and timeit)\n",
    "\n"
   ]
  },
  {
   "cell_type": "code",
   "execution_count": 11,
   "metadata": {},
   "outputs": [],
   "source": [
    "# Your code here"
   ]
  },
  {
   "cell_type": "markdown",
   "metadata": {},
   "source": [
    "## Question 3 (69 pts)\n",
    "\n",
    "1). **Exploratory Data Analysis**:"
   ]
  },
  {
   "cell_type": "markdown",
   "metadata": {},
   "source": [
    "1. Load the data <code>\"howlongwelive.csv\"</code> to pandas and print the first 5 and last 5 rows of data  (1 or 0pt)"
   ]
  },
  {
   "cell_type": "markdown",
   "metadata": {},
   "source": [
    "2. Print the shape, feature names, and summary (describe) of the data (1 or 0pt)"
   ]
  },
  {
   "cell_type": "markdown",
   "metadata": {},
   "source": [
    "3. Check whether there is missing data. (1 or 0pt)"
   ]
  },
  {
   "cell_type": "markdown",
   "metadata": {},
   "source": [
    "4. Fix all missing data using means or mode (1 or 0pt)  "
   ]
  },
  {
   "cell_type": "markdown",
   "metadata": {},
   "source": [
    "5. Since Hepatatis B has a lot of nans, and highly correlate with Diptheria, simply drop column Hepatatis.  Also drop column Population since there are way too many nans (1 or 0pt)"
   ]
  },
  {
   "cell_type": "markdown",
   "metadata": {},
   "source": [
    "6. If there are any features which are string and you want to use them as features, we need to convert them to int or float.  For now, convert <code>Status</code> to 0 or 1 (1 or 0pt)"
   ]
  },
  {
   "cell_type": "markdown",
   "metadata": {},
   "source": [
    "7. Rename column <code>thinness_1-19_years</code> to <code>thinness_10-19_years</code> (1 or 0pt)"
   ]
  },
  {
   "cell_type": "markdown",
   "metadata": {},
   "source": [
    "8. Perform a <code>groupby</code> country and plot their life expectancy.  Which country has the lowest/highest life expectancy? (1 or 0pt)"
   ]
  },
  {
   "cell_type": "markdown",
   "metadata": {},
   "source": [
    "9. Plot average life expectancy of developed country vs. developing country."
   ]
  },
  {
   "cell_type": "markdown",
   "metadata": {},
   "source": [
    "10. Perform a t-test of life expectancy between developed and developing countries.  Is the result significant?"
   ]
  },
  {
   "cell_type": "markdown",
   "metadata": {},
   "source": [
    "11. Perform a <code>pairplot</code> to see which features are likely to have strong predictive power for life expectancy.  Identify the most 3 important features. "
   ]
  },
  {
   "cell_type": "markdown",
   "metadata": {},
   "source": [
    "12. Perform a histogram of life expectancy.  Is it normal? "
   ]
  },
  {
   "cell_type": "code",
   "execution_count": 12,
   "metadata": {},
   "outputs": [
    {
     "name": "stdout",
     "output_type": "stream",
     "text": [
      "(100, 1)\n",
      "(100,)\n"
     ]
    },
    {
     "data": {
      "image/png": "[encoded data removed]",
      "text/plain": [
       "<Figure size 432x288 with 1 Axes>"
      ]
     },
     "metadata": {
      "needs_background": "light"
     },
     "output_type": "display_data"
    }
   ],
   "source": [
    "import numpy as np\n",
    "import matplotlib.pyplot as plt\n",
    "from sklearn.datasets import load_boston\n",
    "from sklearn.preprocessing import StandardScaler\n",
    "from sklearn import datasets\n",
    "\n",
    "# boston = load_boston()\n",
    "# X = boston.data\n",
    "# y = boston.target\n",
    "X, y = datasets.make_regression(n_samples=100, n_features=1, noise=20, random_state=4)\n",
    "\n",
    "print(X.shape)\n",
    "print(y.shape)\n",
    "plt.plot(X, y, 'o')\n",
    "plt.show()"
   ]
  },
  {
   "cell_type": "markdown",
   "metadata": {},
   "source": [
    "2). **Regression**\n",
    "- Prepare your <code>X</code> and <code>y</code> into Numpy array (you have to map from Pandas to numpy).  For X, prepare two versions of them.  For first <code>X_selected</code>, you have to choose the most 3 important features from above, and for second <code>X_all</code>, simply use all features (you may want to omit Country since they are categorical). Set <code>y</code> to life expectancy. (1 or 0pt)"
   ]
  },
  {
   "cell_type": "markdown",
   "metadata": {},
   "source": [
    "- Perform standardization using Numpy way (NOT sklearn way). (1 or 0pt)\n"
   ]
  },
  {
   "cell_type": "markdown",
   "metadata": {},
   "source": [
    "- Perform train-test split by using Numpy way (NOT sklearn way).  Use test size of 0.3.   (1 or 0pt)\n"
   ]
  },
  {
   "cell_type": "markdown",
   "metadata": {},
   "source": [
    "- Perform assertion whether your splitting is correct accordingly (1 or 0pt)\n"
   ]
  },
  {
   "cell_type": "markdown",
   "metadata": {},
   "source": [
    "- Write a class <code>Regression(X, y, grad_method, max_iter, alpha, tol, decay, decay_iter, decay_rate, stop_delay_counter, verbose, lam, poly, poly_deg)</code> that can perform the followings:\n",
    "    - Mini-batch, Stochastic, and Batch Gradient Descent (each 2pts)\n",
    "    - Polynomial of degree k (2 or 0pt)\n",
    "    - Decay learning rate (1 or 0pt)\n",
    "        - Decay learning rate is a learning rate that becomes smaller after certian iteration. For example, after 5 iterations, the learning rate will reduce to 95% of the current learning rate.\n",
    "        - To implement it, simply multiply current learning rate with some constant <code>decay_rate</code>. For now, set it to 0.9\n",
    "    - Regularization with ridge (2 or 0pt)\n",
    "    - Must have at least four methods for <code>fit()</code> (i.e., for finding weights) <code>predict()</code> (i.e., for predicting X_test data), <code>score()</code> (i.e., for returning $r^2$ score), and <code>mse()</code> (return mse) (each 1pt)\n",
    "    - Accepts <code>X</code>, <code>y</code>, <code>grad_method</code> (default set to \"batch\"), <code>alpha</code> (learning rate), <code>max_iter</code>, <code>tol</code>, <code>decay</code> (whether to use decay learning rate; default set to False), <code>decay_iter</code> (after how many iterations will the decay apply), <code>stop_delay_counter</code> (this is the maximum number of times that decay the learning rate), <code>verbose</code> (default is set to False, whether model will display the Cost for each iteration), <code>lam</code> (this is the ridge regularization parameter), <code>poly</code> (default is set to False), and <code>poly_deg</code> (default is set to 2) (each 1/13pt)\n"
   ]
  },
  {
   "cell_type": "markdown",
   "metadata": {},
   "source": [
    "- Create the following 3 models **from your class** (For any unspecified parameters, feel free to use any :D)"
   ]
  },
  {
   "cell_type": "markdown",
   "metadata": {},
   "source": [
    "1. For the first model, transform your feature using polynomial degree 3, then perform linear regression with batch gradient descent with early stopping of <code>tol</code> 1e-3  (1 or 0pt)"
   ]
  },
  {
   "cell_type": "markdown",
   "metadata": {},
   "source": [
    "2. For the second model, perform linear regression with mini-batch gradient desent with early stopping of <code>tol</code> 1e-3 (1 or 0pt)"
   ]
  },
  {
   "cell_type": "markdown",
   "metadata": {},
   "source": [
    "3. For the third model, perform ridge regression with stochastic gradient desent with early stopping of <code>tol</code> 1e-3 and <code>decay</code> set to True and <code>lam</code> to 1e-4 (1 or 0pt)"
   ]
  },
  {
   "cell_type": "markdown",
   "metadata": {},
   "source": [
    "- Create Lasso model from Sklearn with default parameters (1 or 0pt)\n"
   ]
  },
  {
   "cell_type": "markdown",
   "metadata": {},
   "source": [
    "- For these four models, using two different versions of X, perform a cross validation of 10 folds, comparing the four models * two versions of X.  Here you should implement cross validation. Report which one is the best candidate model (3pts for implement from scratch or 1pt for using sklearn)  \n",
    "    - Recall that in a 10 folds cross validation, you split your data into 10 even pieces.  Then you run 10 iterations, where in each iteration, you pick 1 of this piece as the validation set, and the rest as training set.  Once you reach the 10th iteration, you would have already exhaust all the 10 pieces as validation set.\n"
   ]
  },
  {
   "cell_type": "markdown",
   "metadata": {},
   "source": [
    "- Using the best model, fit again with the training data.  Plot the weights using bar charts along the feature names.  Before you actually plot the weights, we need to multiply these weights by their feature standard deviation, so to reduce these weights to same unit of measure.  Interpret these weights and what they imply.  (For those who are curious why we need to multiply with std, you may read this > https://scikit-learn.org/stable/auto_examples/inspection/plot_linear_model_coefficient_interpretation.html#interpreting-coefficients-scale-matters  (2 or 0pt)   \n",
    "\n"
   ]
  },
  {
   "cell_type": "markdown",
   "metadata": {},
   "source": [
    "As shown above, the plot shows that ICR(income composition of resources), ICR^2 and AM( adult mortality) have the most impact on life expectancy."
   ]
  },
  {
   "cell_type": "markdown",
   "metadata": {},
   "source": [
    "- Perform predictions on testing data.  Print adjusted $r^2$ and mse. (1 or 0pt)\n"
   ]
  },
  {
   "cell_type": "markdown",
   "metadata": {},
   "source": [
    "- Plot the predicted values against actual values (1 or 0pt)"
   ]
  },
  {
   "cell_type": "code",
   "execution_count": 13,
   "metadata": {},
   "outputs": [],
   "source": [
    "def my_train_test_split(X, y, percent_train=.7):\n",
    "    idx = np.arange(0,len(X),1)\n",
    "    np.random.shuffle(idx)\n",
    "    idx_train = idx[0:int(percent_train*len(X))]\n",
    "    idx_test = idx[len(idx_train):len(idx)]\n",
    "    X_train = X[idx_train]\n",
    "    X_test = X[idx_test]\n",
    "    y_train = y[idx_train]\n",
    "    y_test = y[idx_test]\n",
    "    return X_train, X_test, y_train, y_test\n",
    "\n",
    "def standardScaler(data):\n",
    "    mean = data.mean() # mean stores mean value for the column\n",
    "    std = data.std() # std stores standard deviation value for the column\n",
    "    return (data - mean) / std # standard scaling of each element of the column"
   ]
  },
  {
   "cell_type": "code",
   "execution_count": 14,
   "metadata": {},
   "outputs": [],
   "source": [
    "scaler = StandardScaler()\n",
    "# X = scaler.fit_transform(X)\n",
    "X = standardScaler(X)"
   ]
  },
  {
   "cell_type": "code",
   "execution_count": 15,
   "metadata": {},
   "outputs": [
    {
     "name": "stdout",
     "output_type": "stream",
     "text": [
      "X_train: (70, 2)\n",
      "X_test: (30, 2)\n",
      "y_train: (70,)\n",
      "y_test: (30,)\n"
     ]
    }
   ],
   "source": [
    "X_train, X_test, y_train, y_test = my_train_test_split(X, y, .7)\n",
    "\n",
    "assert X_train.shape[0] == y_train.shape[0]\n",
    "assert X_test.shape[0] == y_test.shape[0]\n",
    "\n",
    "# add intercept to our X\n",
    "intercept = np.ones((X_train.shape[0], 1))\n",
    "X_train   = np.concatenate((intercept, X_train), axis=1)  #add intercept\n",
    "intercept = np.ones((X_test.shape[0], 1))\n",
    "X_test    = np.concatenate((intercept, X_test), axis=1)  #add intercept\n",
    "\n",
    "print(\"X_train:\", X_train.shape)\n",
    "print(\"X_test:\", X_test.shape)\n",
    "print(\"y_train:\", y_train.shape)\n",
    "print(\"y_test:\", y_test.shape)"
   ]
  },
  {
   "cell_type": "code",
   "execution_count": 16,
   "metadata": {},
   "outputs": [],
   "source": [
    "class Regression:\n",
    "    # if batch, set alpha to smaller values\n",
    "    def __init__(self, X, y, grad_method=\"batch\", max_iter=10000, alpha=0.001,\n",
    "                 tol=1e-5, decay=False, decay_iter=5, decay_rate=.9, stop_delay_counter=10,\n",
    "                 verbose=False, lam=0, poly=False, poly_deg=2):\n",
    "        self.X = X\n",
    "        self.y = y\n",
    "        self.losses = []\n",
    "        self.method = grad_method\n",
    "        self.max_iter = max_iter\n",
    "        self.alpha = alpha\n",
    "        self.loss_old = 10000\n",
    "        self.tol = tol\n",
    "        self.decay = decay\n",
    "        self.decay_iter = decay_iter\n",
    "        self.decay_rate = decay_rate\n",
    "        self.stop_delay_counter = stop_delay_counter\n",
    "        self.verbose = verbose\n",
    "        self.lam = lam\n",
    "        self.poly = poly\n",
    "        self.poly_deg = poly_deg\n",
    "        \n",
    "    def fit(self):\n",
    "        X = self.X\n",
    "        y = self.y\n",
    "        self.theta = np.zeros(X.shape[1])\n",
    "        iter_stop = 0\n",
    "        list_of_used_ix = [] #<===without replacement\n",
    "        \n",
    "        for i in range(self.max_iter):\n",
    "            if self.method == \"sto\":\n",
    "                i = np.random.randint(X.shape[0])\n",
    "                while i in list_of_used_ix:\n",
    "                    i = np.random.randint(X.shape[0])\n",
    "                X_train = X[i, :].reshape(1, -1)\n",
    "                y_train = y[i]\n",
    "                list_of_used_ix.append(i)\n",
    "                if len(list_of_used_ix) == X.shape[0]:\n",
    "                    list_of_used_ix = []\n",
    "            elif self.method == 'minibatch':\n",
    "                batch_size = int(0.3 * X.shape[0])\n",
    "                ix = np.random.randint(0, X.shape[0]) #<----with replacement\n",
    "                X_train = X[ix:ix+batch_size]\n",
    "                y_train = y[ix:ix+batch_size]\n",
    "            else:\n",
    "                X_train = X\n",
    "                y_train = y\n",
    "\n",
    "            loss, grad = self.gradient(X_train, y_train)\n",
    "            \n",
    "            # early stopping\n",
    "            if self.delta_loss(loss, self.loss_old, self.tol):  #np.allclose\n",
    "                iter_stop = i\n",
    "                break\n",
    "            self.loss_old = loss\n",
    "            \n",
    "            # update theta\n",
    "            self.theta = self.theta - self.alpha * grad\n",
    "            self.losses.append(loss)\n",
    "            \n",
    "            # decay\n",
    "            if self.decay and self.stop_delay_counter > 0 and i % self.decay_iter == 0:\n",
    "                self.alpha = self.alpha * self.decay_rate\n",
    "                self.stop_delay_counter = self.stop_delay_counter - 1\n",
    "\n",
    "            if self.verbose:\n",
    "                print(f\"Loss at iteration {i}\", loss)\n",
    "\n",
    "    def predict(self, X): # <--- X_test\n",
    "        return self.h_theta(X)\n",
    "\n",
    "    # can name it predict for easy understanding\n",
    "    def h_theta(self, X):\n",
    "        return X @ self.theta\n",
    "\n",
    "    def mse(self, yhat, y):\n",
    "        return ((yhat - y)**2 / yhat.shape[0]).sum()\n",
    "\n",
    "    def delta_loss(self, loss_new, loss_old, tol):\n",
    "        return np.abs(loss_new - loss_old) < tol\n",
    "\n",
    "    def gradient(self, X, y):\n",
    "        yhat = self.h_theta(X)\n",
    "        loss = self.mse(yhat, y)\n",
    "        grad = X.T @ (yhat - y)\n",
    "        return loss, grad\n",
    "    \n",
    "    def plot(self, X_test, y_test):\n",
    "        yhat = self.predict(X_test)\n",
    "        mse = self.mse(yhat, y_test)\n",
    "        print(\"MSE:\", mse)\n",
    "        print(\"R2:\", goodness_of_fit(y_test, yhat))\n",
    "#         plt.plot(self.X, self.y, 'o')\n",
    "#         plt.plot(X_test, yhat)\n",
    "#         plt.show()\n",
    "\n",
    "def goodness_of_fit(y, y_predicted):\n",
    "    # YOUR CODE HERE\n",
    "    return 1 - (np.sum((y - y_predicted.T) ** 2) / np.sum((y - y_predicted.mean()) ** 2))"
   ]
  },
  {
   "cell_type": "code",
   "execution_count": 17,
   "metadata": {},
   "outputs": [
    {
     "name": "stdout",
     "output_type": "stream",
     "text": [
      "MSE: 335.0713291196478\n",
      "R2: 0.9386989064703603\n"
     ]
    }
   ],
   "source": [
    "m1 = Regression(X_train, y_train, verbose=False, tol=1e-3)\n",
    "m1.fit()\n",
    "m1.plot(X_test, y_test)"
   ]
  },
  {
   "cell_type": "code",
   "execution_count": 18,
   "metadata": {},
   "outputs": [
    {
     "name": "stdout",
     "output_type": "stream",
     "text": [
      "MSE: 331.9016122819916\n",
      "R2: 0.9392346519637957\n"
     ]
    }
   ],
   "source": [
    "m2 = Regression(X_train, y_train, grad_method='minibatch', tol=1e-3)\n",
    "m2.fit()\n",
    "m2.plot(X_test, y_test)"
   ]
  },
  {
   "cell_type": "code",
   "execution_count": 19,
   "metadata": {},
   "outputs": [
    {
     "name": "stdout",
     "output_type": "stream",
     "text": [
      "MSE: 334.75664392379525\n",
      "R2: 0.9387505061785516\n"
     ]
    }
   ],
   "source": [
    "m3 = Regression(X_train, y_train, grad_method='sto', tol=1e-3)\n",
    "m3.fit()\n",
    "m3.plot(X_test, y_test)"
   ]
  },
  {
   "cell_type": "code",
   "execution_count": 20,
   "metadata": {},
   "outputs": [
    {
     "name": "stdout",
     "output_type": "stream",
     "text": [
      "With 0 (0-10) of the data, MSE: 174.04291486211733.\n",
      "With 10 (10-20) of the data, MSE: 563.6984471108576.\n",
      "With 20 (20-30) of the data, MSE: 107.01519733030555.\n",
      "With 30 (30-40) of the data, MSE: 480.7103541314768.\n",
      "With 40 (40-50) of the data, MSE: 230.44825502697574.\n",
      "With 50 (50-60) of the data, MSE: 432.6935208693787.\n",
      "With 60 (60-70) of the data, MSE: 285.5539665562659.\n",
      "With 70 (70-80) of the data, MSE: 297.0863384923918.\n",
      "With 80 (80-90) of the data, MSE: 346.93192541054094.\n",
      "With 90 (90-100) of the data, MSE: 114.03559111289047.\n"
     ]
    }
   ],
   "source": [
    "def cv(X, y, cv=10):\n",
    "    m = X.shape[0]\n",
    "    foldsize = int(m/cv)\n",
    "    yhats = []\n",
    "    mses = []\n",
    "    for i in range(0, m, foldsize):\n",
    "        X_test_ = X[i:i+foldsize]\n",
    "        y_test_ = y[i:i+foldsize]\n",
    "        X_train_ = np.concatenate((X[:i], X[i+foldsize:]))\n",
    "        y_train_ = np.concatenate((y[:i], y[i+foldsize:]))\n",
    "        m = Regression(X_train_, y_train_, tol=1e-3)\n",
    "        m.fit()\n",
    "        yhat = m.predict(X_test_)\n",
    "        mse = m.mse(yhat, y_test_)\n",
    "        print(f\"With {i} ({i}-{i+foldsize}) of the data, MSE: {mse}.\")\n",
    "        yhats.append(yhat)\n",
    "        mses.append(mse)\n",
    "#     return yhats, mses\n",
    "cv(X, y)"
   ]
  },
  {
   "cell_type": "markdown",
   "metadata": {},
   "source": [
    "3). **Classification**\n",
    "\n",
    "- Change your y to discrete value.  Here split y into three class, {0, 1, 2}, where 0 belongs to low life expectancy group, and 2 for the high life expectancy group. (1 or 0pt)\n",
    "\n",
    "- Write a class for multinomial logistic regression with stochastic gradient descent. Must have at least six methods for <code>fit()</code> (i.e., for finding weights) <code>predict()</code> (i.e., for predicting X_test data), <code>accuracy()</code> (i.e., for returning accuracy score), <code>recall()</code>, <code>precision()</code>, and <code>f1()</code> (each 1pt)\n",
    "\n",
    "- Using the best X_train of the two suggested by the cross validation step, fit the data with your class.  (1 or 0pt)\n",
    "\n",
    "- Perform predictions on testing data.  Print accuracy, recall, precision, and f1_score from your class. (1 or 0pt)\n",
    "\n",
    "- Plot the decision boundary with the X_test data.  To plot this, you may want to choose only 2 features.  (1 or 0pt)\n"
   ]
  },
  {
   "cell_type": "markdown",
   "metadata": {},
   "source": [
    "4). **Final verdict**\n",
    "\n",
    "- Attempt to do whatever ways - including sklearn or scratch - or change your features, or do feature enginnering such that your mse is lowest possible.  (0 to 5pts - following class normal distributions)"
   ]
  },
  {
   "cell_type": "code",
   "execution_count": 21,
   "metadata": {},
   "outputs": [
    {
     "name": "stdout",
     "output_type": "stream",
     "text": [
      "Mean Squared Error 335.4184359284476\n"
     ]
    }
   ],
   "source": [
    "from sklearn.linear_model import LinearRegression\n",
    "import sklearn.metrics as metrics\n",
    "\n",
    "lr = LinearRegression()\n",
    "lr.fit(X_train, y_train)\n",
    "\n",
    "yhat = lr.predict(X_test)\n",
    "mse = metrics.mean_squared_error(y_test, yhat)\n",
    "print(\"Mean Squared Error {}\".format(mse))"
   ]
  },
  {
   "cell_type": "code",
   "execution_count": 22,
   "metadata": {},
   "outputs": [
    {
     "name": "stdout",
     "output_type": "stream",
     "text": [
      "X_train: (105, 3)\n",
      "X_test: (45, 3)\n",
      "y_train: (105,)\n",
      "y_test: (45,)\n"
     ]
    },
    {
     "data": {
      "text/plain": [
       "array([[0., 0., 1.],\n",
       "       [1., 0., 0.],\n",
       "       [0., 1., 0.],\n",
       "       [0., 1., 0.],\n",
       "       [1., 0., 0.]])"
      ]
     },
     "execution_count": 22,
     "metadata": {},
     "output_type": "execute_result"
    }
   ],
   "source": [
    "# Your code here\n",
    "from sklearn import datasets\n",
    "import time\n",
    "\n",
    "iris = datasets.load_iris()\n",
    "X = iris.data[:, 2:]  # we only take the first two features.\n",
    "y = iris.target  #now our y is three classes thus require multinomial\n",
    "\n",
    "X = standardScaler(X)\n",
    "\n",
    "X_train, X_test, y_train, y_test = my_train_test_split(X, y, .7)\n",
    "\n",
    "# add intercept to our X\n",
    "intercept = np.ones((X_train.shape[0], 1))\n",
    "X_train   = np.concatenate((intercept, X_train), axis=1)  #add intercept\n",
    "intercept = np.ones((X_test.shape[0], 1))\n",
    "X_test    = np.concatenate((intercept, X_test), axis=1)  #add intercept\n",
    "\n",
    "print(\"X_train:\", X_train.shape)\n",
    "print(\"X_test:\", X_test.shape)\n",
    "print(\"y_train:\", y_train.shape)\n",
    "print(\"y_test:\", y_test.shape)\n",
    "\n",
    "# make sure our y is in the shape of (m, k)\n",
    "# we will convert our output vector in \n",
    "# matrix where no. of columns is equal to the no. of classes. \n",
    "# The values in the matrix will be 0 or 1. For instance the rows \n",
    "# where we have output 2 the column 2 will contain 1 and the rest are all 0.\n",
    "# in simple words, y will be of shape (m, k)\n",
    "k = len(set(y))  # no. of class  (can also use np.unique)\n",
    "m = X_train.shape[0]  # no.of samples\n",
    "n = X_train.shape[1]  # no. of features\n",
    "Y_train_encoded = np.zeros((m, k))\n",
    "for each_class in range(k):\n",
    "    cond = y_train==each_class\n",
    "    Y_train_encoded[np.where(cond), each_class] = 1\n",
    "\n",
    "Y_train_encoded[:5]"
   ]
  },
  {
   "cell_type": "code",
   "execution_count": 23,
   "metadata": {},
   "outputs": [],
   "source": [
    "class LogisticRegression:\n",
    "    \n",
    "    def __init__(self, k, n, method, alpha = 0.001, max_iter=10000):\n",
    "        self.k = k\n",
    "        self.n = n\n",
    "        self.alpha = alpha\n",
    "        self.max_iter = max_iter\n",
    "        self.method = method\n",
    "    \n",
    "    def fit(self, X, Y):\n",
    "        self.W = np.random.rand(self.n, self.k)\n",
    "        self.losses = []\n",
    "        \n",
    "        if self.method == \"batch\":\n",
    "            start_time = time.time()\n",
    "            for i in range(self.max_iter):\n",
    "                loss, grad =  self.gradient(X, Y)\n",
    "                self.losses.append(loss)\n",
    "                self.W = self.W - self.alpha * grad\n",
    "#                 if i % 500 == 0:\n",
    "#                     print(f\"Loss at iteration {i}\", loss)\n",
    "#             print(f\"time taken: {time.time() - start_time}\")\n",
    "            \n",
    "        elif self.method == \"minibatch\":\n",
    "            start_time = time.time()\n",
    "            batch_size = int(0.3 * X.shape[0])\n",
    "            for i in range(self.max_iter):\n",
    "                ix = np.random.randint(0, X.shape[0]) #<----with replacement\n",
    "                batch_X = X[ix:ix+batch_size]\n",
    "                batch_Y = Y[ix:ix+batch_size]\n",
    "                loss, grad = self.gradient(batch_X, batch_Y)\n",
    "                self.losses.append(loss)\n",
    "                self.W = self.W - self.alpha * grad\n",
    "#                 if i % 500 == 0:\n",
    "#                     print(f\"Loss at iteration {i}\", loss)\n",
    "#             print(f\"time taken: {time.time() - start_time}\")\n",
    "            \n",
    "        elif self.method == \"sto\":\n",
    "            start_time = time.time()\n",
    "            list_of_used_ix = []\n",
    "            for i in range(self.max_iter):\n",
    "                idx = np.random.randint(X.shape[0])\n",
    "                while i in list_of_used_ix:\n",
    "                    idx = np.random.randint(X.shape[0])\n",
    "                X_train = X[idx, :].reshape(1, -1)\n",
    "                Y_train = Y[idx]\n",
    "                loss, grad = self.gradient(X_train, Y_train)\n",
    "                self.losses.append(loss)\n",
    "                self.W = self.W - self.alpha * grad\n",
    "                \n",
    "                list_of_used_ix.append(i)\n",
    "                if len(list_of_used_ix) == X.shape[0]:\n",
    "                    list_of_used_ix = []\n",
    "#                 if i % 500 == 0:\n",
    "#                     print(f\"Loss at iteration {i}\", loss)\n",
    "#             print(f\"time taken: {time.time() - start_time}\")\n",
    "            \n",
    "        else:\n",
    "            raise ValueError('Method must be one of the followings: \"batch\", \"minibatch\" or \"sto\".')\n",
    "        \n",
    "        \n",
    "    def gradient(self, X, Y):\n",
    "        m = X.shape[0]\n",
    "        h = self.h_theta(X, self.W)\n",
    "        loss = - np.sum(Y*np.log(h)) / m\n",
    "        error = h - Y\n",
    "        grad = self.softmax_grad(X, error)\n",
    "        return loss, grad\n",
    "\n",
    "    def softmax(self, theta_t_x):\n",
    "        return np.exp(theta_t_x) / np.sum(np.exp(theta_t_x), axis=1, keepdims=True)\n",
    "\n",
    "    def softmax_grad(self, X, error):\n",
    "        return  X.T @ error\n",
    "\n",
    "    def h_theta(self, X, W):\n",
    "        '''\n",
    "        Input:\n",
    "            X shape: (m, n)\n",
    "            w shape: (n, k)\n",
    "        Returns:\n",
    "            yhat shape: (m, k)\n",
    "        '''\n",
    "        return self.softmax(X @ W)\n",
    "    \n",
    "    def predict(self, X_test):\n",
    "        return np.argmax(self.h_theta(X_test, self.W), axis=1)\n",
    "    \n",
    "    def plot(self):\n",
    "        plt.plot(np.arange(len(self.losses)) , self.losses, label = \"Train Losses\")\n",
    "        plt.title(\"Losses\")\n",
    "        plt.xlabel(\"epoch\")\n",
    "        plt.ylabel(\"losses\")\n",
    "        plt.legend()\n",
    "        \n",
    "    def classification_reports(self, actual, predicted): # <--- y_test actual\n",
    "        self.actual = actual\n",
    "        self.predicted = predicted\n",
    "        self.TP = sum((self.actual == 1) & (self.predicted == 1))\n",
    "        self.TN = sum((self.actual == 0) & (self.predicted == 0))\n",
    "        self.FN = sum((self.actual == 1) & (self.predicted == 0))\n",
    "        self.FP = sum((self.actual == 0) & (self.predicted == 1))\n",
    "        \n",
    "    def accuracy(self):\n",
    "        self.acc = 100 * (self.TP + self.TN)/ float( self.TP + self.TN + self.FN + self.FP)\n",
    "        return self.acc\n",
    "    \n",
    "    def recall(self):\n",
    "        self.recall = (100* self.TP)/ float(self.TP + self.FN)\n",
    "        return self.recall\n",
    "        \n",
    "    def precision(self):\n",
    "        self.precision = 100* (self.TP)/ float(self.TP + self.FP)\n",
    "        return self.precision\n",
    "        \n",
    "    def f1(self):\n",
    "        self.f1 = 2 * self.precision * self.recall / (self.precision + self.recall)\n",
    "        return self.f1"
   ]
  },
  {
   "cell_type": "code",
   "execution_count": 24,
   "metadata": {},
   "outputs": [
    {
     "name": "stdout",
     "output_type": "stream",
     "text": [
      "Accuracy: 100.0\n",
      "Recall: 100.0\n",
      "Precision: 100.0\n",
      "F1: 100.0\n"
     ]
    },
    {
     "data": {
      "image/png": "[encoded data removed]",
      "text/plain": [
       "<Figure size 432x288 with 1 Axes>"
      ]
     },
     "metadata": {
      "needs_background": "light"
     },
     "output_type": "display_data"
    }
   ],
   "source": [
    "model = LogisticRegression(k, X_train.shape[1], \"batch\")\n",
    "model.fit(X_train, Y_train_encoded)\n",
    "yhat = model.predict(X_test)\n",
    "model.classification_reports(y_test, yhat)\n",
    "print(f\"Accuracy: {model.accuracy()}\")\n",
    "print(f\"Recall: {model.recall()}\")\n",
    "print(f\"Precision: {model.precision()}\")\n",
    "print(f\"F1: {model.f1()}\")\n",
    "\n",
    "model.plot()"
   ]
  },
  {
   "cell_type": "code",
   "execution_count": 25,
   "metadata": {},
   "outputs": [
    {
     "name": "stdout",
     "output_type": "stream",
     "text": [
      "Validation set at index 0, accuracy: 1.0\n",
      "Validation set at index 1, accuracy: 1.0\n",
      "Validation set at index 2, accuracy: 1.0\n",
      "Validation set at index 3, accuracy: 1.0\n",
      "Validation set at index 4, accuracy: 0.9\n",
      "Validation set at index 5, accuracy: 1.0\n",
      "Validation set at index 6, accuracy: 1.0\n",
      "Validation set at index 7, accuracy: 0.7\n",
      "Validation set at index 8, accuracy: 1.0\n",
      "Validation set at index 9, accuracy: 1.0\n",
      "Validation set at index 10, accuracy: 0.8\n"
     ]
    }
   ],
   "source": [
    "def cv(X, y, cv=10):\n",
    "    m = X.shape[0]\n",
    "    foldsize = int(m/cv)\n",
    "    yhats = []\n",
    "    yhat_score = []\n",
    "    for i in range(0, m, foldsize):\n",
    "        X_test_ = X[i:i+foldsize]\n",
    "        y_test_ = y[i:i+foldsize]\n",
    "        X_train_ = np.concatenate((X[:i], X[i+foldsize:]))\n",
    "        y_train_ = np.concatenate((y[:i], y[i+foldsize:]))\n",
    "        \n",
    "        # add intercept to our X\n",
    "        intercept = np.ones((X_train_.shape[0], 1))\n",
    "        X_train_   = np.concatenate((intercept, X_train_), axis=1)  #add intercept\n",
    "        intercept = np.ones((X_test_.shape[0], 1))\n",
    "        X_test_    = np.concatenate((intercept, X_test_), axis=1)  #add intercept\n",
    "        \n",
    "        Y_train_encoded_ = np.zeros((X_train_.shape[0], k))\n",
    "        for each_class in range(k):\n",
    "            cond = y_train_==each_class\n",
    "            Y_train_encoded_[np.where(cond), each_class] = 1\n",
    "        model = LogisticRegression(k, X_train_.shape[1], \"batch\")\n",
    "        model.fit(X_train_, Y_train_encoded_)\n",
    "        yhat = model.predict(X_test_)\n",
    "        acc = (yhat==y_test_).sum() / y_test_.shape[0]\n",
    "        yhats.append(yhat)\n",
    "        yhat_score.append(acc)\n",
    "    return yhats, yhat_score\n",
    "\n",
    "yhats, accs = cv(X_train, y_train)\n",
    "for i, acc in enumerate(accs):\n",
    "    print(f\"Validation set at index {i}, accuracy: {acc}\")"
   ]
  },
  {
   "cell_type": "code",
   "execution_count": 26,
   "metadata": {},
   "outputs": [
    {
     "name": "stdout",
     "output_type": "stream",
     "text": [
      "X_train: (95, 4)\n",
      "X_test: (10, 4)\n",
      "y_train: (95,)\n",
      "y_test: (10,)\n",
      "Accuracy: 100.0\n",
      "Recall: 100.0\n",
      "Precision: 100.0\n",
      "F1: 100.0\n"
     ]
    },
    {
     "data": {
      "image/png": "[encoded data removed]",
      "text/plain": [
       "<Figure size 432x288 with 1 Axes>"
      ]
     },
     "metadata": {
      "needs_background": "light"
     },
     "output_type": "display_data"
    }
   ],
   "source": [
    "i = 2\n",
    "foldsize = int(X_train.shape[0]/10)\n",
    "X_test_ = X_train[i:i+foldsize]\n",
    "y_test_ = y_train[i:i+foldsize]\n",
    "X_train_ = np.concatenate((X_train[:i], X_train[i+foldsize:]))\n",
    "y_train_ = np.concatenate((y_train[:i], y_train[i+foldsize:]))\n",
    "\n",
    "# add intercept to our X\n",
    "intercept = np.ones((X_train_.shape[0], 1))\n",
    "X_train_   = np.concatenate((intercept, X_train_), axis=1)  #add intercept\n",
    "intercept = np.ones((X_test_.shape[0], 1))\n",
    "X_test_    = np.concatenate((intercept, X_test_), axis=1)  #add intercept\n",
    "\n",
    "print(\"X_train:\", X_train_.shape)\n",
    "print(\"X_test:\", X_test_.shape)\n",
    "print(\"y_train:\", y_train_.shape)\n",
    "print(\"y_test:\", y_test_.shape)\n",
    "\n",
    "k = len(set(y_train))  # no. of class  (can also use np.unique)\n",
    "m = X_train_.shape[0]  # no.of samples\n",
    "n = X_train_.shape[1]  # no. of features\n",
    "Y_train_encoded_ = np.zeros((X_train_.shape[0], k))\n",
    "for each_class in range(k):\n",
    "    cond = y_train_==each_class\n",
    "    Y_train_encoded_[np.where(cond), each_class] = 1\n",
    "\n",
    "    \n",
    "model_ = LogisticRegression(k, X_train_.shape[1], \"batch\")\n",
    "model_.fit(X_train_, Y_train_encoded_)\n",
    "yhat_ = model_.predict(X_test_)\n",
    "model_.classification_reports(y_test_, yhat_)\n",
    "print(f\"Accuracy: {model_.accuracy()}\")\n",
    "print(f\"Recall: {model_.recall()}\")\n",
    "print(f\"Precision: {model_.precision()}\")\n",
    "print(f\"F1: {model_.f1()}\")\n",
    "\n",
    "model_.plot()"
   ]
  },
  {
   "cell_type": "code",
   "execution_count": 27,
   "metadata": {},
   "outputs": [
    {
     "name": "stdout",
     "output_type": "stream",
     "text": [
      "[[ 1.6429047   2.01394597 -2.25863793]\n",
      " [-7.27680659  0.85206455  7.99189194]\n",
      " [-3.84226049 -2.62382732  8.29966085]]\n"
     ]
    },
    {
     "data": {
      "image/png": "[encoded data removed]",
      "text/plain": [
       "<Figure size 432x288 with 1 Axes>"
      ]
     },
     "metadata": {
      "needs_background": "light"
     },
     "output_type": "display_data"
    }
   ],
   "source": [
    "def boundary_points(X, theta):\n",
    "    v_orthogonal = np.array([[theta[1,0]],[theta[2,0]]])\n",
    "    v_ortho_length = np.sqrt(v_orthogonal.T @ v_orthogonal)\n",
    "    dist_ortho = theta[0,0] / v_ortho_length\n",
    "    v_orthogonal = v_orthogonal / v_ortho_length\n",
    "    v_parallel = np.array([[-v_orthogonal[1,0]],[v_orthogonal[0,0]]])\n",
    "    projections = X @ v_parallel\n",
    "    proj_1 = min(projections)\n",
    "    proj_2 = max(projections)\n",
    "    point_1 = proj_1 * v_parallel - dist_ortho * v_orthogonal\n",
    "    point_2 = proj_2 * v_parallel - dist_ortho * v_orthogonal\n",
    "    return point_1, point_2\n",
    "\n",
    "class0 = (y_test==0).flatten()\n",
    "class1 = (y_test==1).flatten()\n",
    "plt.plot(X_test[class0, 1], X_test[class0, 2], 'ro')\n",
    "plt.plot(X_test[class1, 1], X_test[class1, 2], 'bo')\n",
    "print(model.W)\n",
    "point_1, point_2 = boundary_points(X, model.W)\n",
    "plt.plot([point_1[0,0], point_2[0,0]],[point_1[1,0], point_2[1,0]], 'g-')\n",
    "plt.show()"
   ]
  },
  {
   "cell_type": "code",
   "execution_count": null,
   "metadata": {},
   "outputs": [],
   "source": []
  }
 ],
 "metadata": {
  "kernelspec": {
   "display_name": "Python 3",
   "language": "python",
   "name": "python3"
  },
  "language_info": {
   "codemirror_mode": {
    "name": "ipython",
    "version": 3
   },
   "file_extension": ".py",
   "mimetype": "text/x-python",
   "name": "python",
   "nbconvert_exporter": "python",
   "pygments_lexer": "ipython3",
   "version": "3.8.8"
  }
 },
 "nbformat": 4,
 "nbformat_minor": 4
}
