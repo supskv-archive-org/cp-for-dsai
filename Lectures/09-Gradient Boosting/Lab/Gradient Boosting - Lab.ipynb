{
 "cells": [
  {
   "cell_type": "markdown",
   "metadata": {},
   "source": [
    "Modify the Gradient Boosting scratch code in our lecture such that:\n",
    "- Notice that we are still using max_depth = 1.  Attempt to tweak min_samples_split, max_depth for the regression and see whether we can achieve better mse on our boston data\n",
    "- Notice that we only write scratch code for gradient boosting for regression, add some code so that it also works for binary classification.  Load the breast cancer data from sklearn and see that it works.\n",
    "- Further change the code so that it works for multiclass classification.  Load the digits data from sklearn and see that it works\n",
    "- Put everything into class"
   ]
  },
  {
   "cell_type": "code",
   "execution_count": 1,
   "metadata": {},
   "outputs": [],
   "source": [
    "from scipy.special import expit\n",
    "from sklearn.tree import DecisionTreeRegressor\n",
    "from sklearn.dummy import DummyRegressor\n",
    "import numpy as np"
   ]
  },
  {
   "cell_type": "code",
   "execution_count": 2,
   "metadata": {},
   "outputs": [],
   "source": [
    "class GradientBoosting:\n",
    "    def __init__(self, S=5, learning_rate=1, max_depth = 1, min_samples_split = 2, regression=True, tol=1e-4):\n",
    "        self.S = S\n",
    "        self.learning_rate = learning_rate\n",
    "        self.max_depth = max_depth\n",
    "        self.min_samples_split = min_samples_split\n",
    "        self.regression=regression\n",
    "            \n",
    "        #initialize regression trees\n",
    "        tree_params = {'max_depth': self.max_depth,\n",
    "                      'min_samples_split': self.min_samples_split}\n",
    "        self.models = [DecisionTreeRegressor(**tree_params) for _ in range(S)]        \n",
    "        first_model = DummyRegressor(strategy='mean')\n",
    "        self.models.insert(0, first_model)\n",
    "\n",
    "    def tranform_to_n_dimensions(self, y_train, y):\n",
    "        y_train_encoded = np.zeros((y_train.shape[0], len(set(y))))\n",
    "        for each_class in range(len(set(y))):\n",
    "            cond = y_train==each_class\n",
    "            y_train_encoded[np.where(cond), each_class] = 1\n",
    "        return y_train_encoded\n",
    "\n",
    "    def grad(self, y, h):\n",
    "        return y - h\n",
    "    \n",
    "    def fit(self, X, y):\n",
    "        #using DummyRegressor is a good technique for starting model\n",
    "        self.models[0].fit(X, y)\n",
    "\n",
    "        #fit the estimators\n",
    "        for i in range(self.S):\n",
    "            #predict using all the weak learners we trained up to\n",
    "            #this point\n",
    "            y_pred = self.predict(X, self.models[:i+1], with_argmax=False)\n",
    "\n",
    "            #errors will be the total errors maded by models_trained\n",
    "            residual = self.grad(y, y_pred)\n",
    "\n",
    "            #fit the next model with residual\n",
    "            self.models[i+1].fit(X, residual)\n",
    "\n",
    "    def predict(self, X, models=None, with_argmax=True):\n",
    "        if models is None:\n",
    "            models = self.models\n",
    "        learning_rate = 0.1  ##hard code for now\n",
    "        f0 = models[0].predict(X)  #first use the dummy model\n",
    "        boosting = sum(self.learning_rate * model.predict(X) for model in models[1:])\n",
    "        yhat = f0 + boosting\n",
    "        \n",
    "        if not self.regression:\n",
    "            #turn into probability using softmax\n",
    "            yhat = np.exp(yhat) / np.sum(np.exp(yhat), axis=1, keepdims=True)\n",
    "            if with_argmax:\n",
    "                yhat = np.argmax(yhat, axis=1)\n",
    "        return yhat"
   ]
  },
  {
   "cell_type": "code",
   "execution_count": 3,
   "metadata": {},
   "outputs": [
    {
     "name": "stdout",
     "output_type": "stream",
     "text": [
      "Our MSE:  7.668708244123569\n"
     ]
    }
   ],
   "source": [
    "# Regression\n",
    "\n",
    "from sklearn.datasets import load_boston\n",
    "from sklearn.metrics import mean_squared_error\n",
    "from sklearn.model_selection import train_test_split\n",
    "from sklearn.ensemble import GradientBoostingRegressor\n",
    "\n",
    "X, y = load_boston(return_X_y=True)\n",
    "\n",
    "X_train, X_test, y_train, y_test = train_test_split(X, y, \n",
    "                                                    test_size=0.3, random_state=42)\n",
    "\n",
    "model = GradientBoosting(S=200, learning_rate=0.1, max_depth = 3, \n",
    "                 min_samples_split = 2,\n",
    "                 regression=True, tol=1e-4)\n",
    "model.fit(X_train, y_train)\n",
    "yhat = model.predict(X_test)\n",
    "\n",
    "print(\"Our MSE: \", mean_squared_error(y_test, yhat))"
   ]
  },
  {
   "cell_type": "code",
   "execution_count": 4,
   "metadata": {},
   "outputs": [
    {
     "name": "stdout",
     "output_type": "stream",
     "text": [
      "[1 0 0 1 1 0 0 0 1 1 1 0 1 0 1 0 1 1 1 0 0 1 0 1 1 1 1 1 1 0 1 1 1 1 1 1 0\n",
      " 1 0 1 1 0 1 1 1 1 1 1 1 1 0 0 1 1 1 1 1 0 0 1 1 0 0 1 1 1 0 0 1 1 0 0 1 0\n",
      " 1 1 1 0 1 1 0 1 0 0 0 0 0 0 1 1 1 1 1 1 1 1 0 0 1 0 0 1 0 0 1 1 1 0 1 1 0\n",
      " 1 1 0 1 0 1 1 1 0 1 1 1 0 1 0 0 1 1 0 0 0 1 1 1 0 1 1 1 0 1 0 1 1 0 1 0 0\n",
      " 0 1 0 1 1 1 1 0 0 1 1 1 1 1 1 1 0 1 1 1 1 0 1]\n",
      "[1 0 0 1 1 0 0 0 0 1 1 0 1 0 1 0 1 1 1 0 1 1 0 1 1 1 1 1 1 0 1 1 1 1 1 1 0\n",
      " 1 0 1 1 0 1 1 1 1 1 1 1 1 0 0 1 1 1 1 1 0 0 1 1 0 0 1 1 1 0 0 1 1 0 0 1 0\n",
      " 1 1 1 0 1 1 0 1 1 0 0 0 0 0 1 1 1 1 1 1 1 1 0 0 1 0 0 1 0 0 1 1 1 0 0 1 0\n",
      " 1 1 0 1 0 1 1 1 0 0 1 1 0 1 0 0 1 1 0 0 0 1 1 1 0 0 1 1 0 1 0 1 1 0 1 0 0\n",
      " 0 1 0 1 1 1 1 0 0 1 1 1 1 1 1 1 0 1 1 1 1 0 1]\n",
      "Our accuracy:  0.9649122807017544\n"
     ]
    }
   ],
   "source": [
    "from sklearn.datasets import load_breast_cancer\n",
    "from sklearn.metrics import accuracy_score\n",
    "\n",
    "X, y = load_breast_cancer(return_X_y=True)\n",
    "X_train, X_test, y_train, y_test = train_test_split(X, y, \n",
    "                                                    test_size=0.3, random_state=42)\n",
    "\n",
    "model = GradientBoosting(S=200, learning_rate=0.1, max_depth = 3, \n",
    "                 min_samples_split = 2,\n",
    "                 regression=False)\n",
    "\n",
    "# seperate y into 2 classes\n",
    "# thus, dimension of y should be (m, 2) binary classification\n",
    "y_train = model.tranform_to_n_dimensions(y_train, y)\n",
    "\n",
    "model.fit(X_train, y_train)\n",
    "yhat = model.predict(X_test)\n",
    "\n",
    "print(y_test)\n",
    "print(yhat)\n",
    "print(\"Our accuracy: \", accuracy_score(y_test, yhat))"
   ]
  },
  {
   "cell_type": "code",
   "execution_count": 5,
   "metadata": {},
   "outputs": [
    {
     "name": "stdout",
     "output_type": "stream",
     "text": [
      "Our accuracy:  0.9314814814814815\n"
     ]
    }
   ],
   "source": [
    "# Multiclass classification\n",
    "from sklearn.datasets import load_digits\n",
    "\n",
    "X, y = load_digits(return_X_y=True)\n",
    "X_train, X_test, y_train, y_test = train_test_split(X, y, \n",
    "                                                    test_size=0.3, random_state=42)\n",
    "\n",
    "model = GradientBoosting(S=200, learning_rate=0.1, max_depth = 3, \n",
    "                 min_samples_split = 2,\n",
    "                 regression=False)\n",
    "\n",
    "# seperate y into 9 classes\n",
    "# thus, dimension of y should be (m, 9) binary classification\n",
    "y_train = model.tranform_to_n_dimensions(y_train, y)\n",
    "\n",
    "model.fit(X_train, y_train)\n",
    "yhat = model.predict(X_test)\n",
    "\n",
    "# #print metrics\n",
    "print(\"Our accuracy: \", accuracy_score(y_test, yhat))"
   ]
  },
  {
   "cell_type": "code",
   "execution_count": null,
   "metadata": {},
   "outputs": [],
   "source": []
  }
 ],
 "metadata": {
  "kernelspec": {
   "display_name": "Python 3",
   "language": "python",
   "name": "python3"
  },
  "language_info": {
   "codemirror_mode": {
    "name": "ipython",
    "version": 3
   },
   "file_extension": ".py",
   "mimetype": "text/x-python",
   "name": "python",
   "nbconvert_exporter": "python",
   "pygments_lexer": "ipython3",
   "version": "3.8.8"
  }
 },
 "nbformat": 4,
 "nbformat_minor": 4
}
